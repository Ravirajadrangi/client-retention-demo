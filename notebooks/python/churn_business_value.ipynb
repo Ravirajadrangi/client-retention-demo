{
 "cells": [
  {
   "cell_type": "markdown",
   "metadata": {
    "extensions": {
     "jupyter_dashboards": {
      "version": 1,
      "views": {
       "grid_default": {
        "col": 0,
        "height": 3,
        "hidden": false,
        "row": 0,
        "width": 7
       },
       "report_default": {
        "hidden": false
       }
      }
     }
    }
   },
   "source": [
    "# Predicted Business Loss Due to Churn"
   ]
  },
  {
   "cell_type": "markdown",
   "metadata": {
    "collapsed": true,
    "extensions": {
     "jupyter_dashboards": {
      "version": 1,
      "views": {
       "grid_default": {
        "hidden": true
       },
       "report_default": {
        "hidden": false
       }
      }
     }
    }
   },
   "source": [
    "In this notebook, we estimate the loss of revenue to BigBank as a result of clients terminating their relationship with the bank.   \n",
    "\n",
    "We train a model to determine the probability that each client will leave (a.k.a. churn), and use it to project the business loss for each client using the churn probability and current revenue from the client.\n",
    "\n",
    "We use the [declarativewidgets](https://github.com/jupyter-incubator/declarativewidgets) Jupyter Notebook extension to create widgets within the notebook to help us visualize and interact with our data."
   ]
  },
  {
   "cell_type": "markdown",
   "metadata": {
    "extensions": {
     "jupyter_dashboards": {
      "version": 1,
      "views": {
       "grid_default": {
        "hidden": true
       },
       "report_default": {
        "hidden": false
       }
      }
     }
    }
   },
   "source": [
    "## Setup"
   ]
  },
  {
   "cell_type": "code",
   "execution_count": null,
   "metadata": {
    "collapsed": true,
    "extensions": {
     "jupyter_dashboards": {
      "version": 1,
      "views": {
       "grid_default": {
        "hidden": true
       },
       "report_default": {
        "hidden": false
       }
      }
     }
    }
   },
   "outputs": [],
   "source": [
    "import warnings\n",
    "warnings.filterwarnings(\"ignore\")\n",
    "%matplotlib inline"
   ]
  },
  {
   "cell_type": "code",
   "execution_count": null,
   "metadata": {
    "collapsed": true
   },
   "outputs": [],
   "source": [
    "import declarativewidgets\n",
    "from declarativewidgets import channel\n",
    "\n",
    "declarativewidgets.init()"
   ]
  },
  {
   "cell_type": "code",
   "execution_count": null,
   "metadata": {
    "collapsed": false,
    "extensions": {
     "jupyter_dashboards": {
      "version": 1,
      "views": {
       "grid_default": {
        "hidden": true
       },
       "report_default": {
        "hidden": false
       }
      }
     }
    }
   },
   "outputs": [],
   "source": [
    "import pandas as pd\n",
    "import numpy as np\n",
    "import seaborn as sns\n",
    "import matplotlib.pyplot as plt\n",
    "\n",
    "from pymongo import MongoClient\n",
    "\n",
    "from sklearn.ensemble import RandomForestClassifier as RF\n",
    "from sklearn.preprocessing import StandardScaler\n",
    "from sklearn.cross_validation import train_test_split\n",
    "\n",
    "pd.set_option('display.precision', 2)\n",
    "sns.set(style=\"whitegrid\")"
   ]
  },
  {
   "cell_type": "code",
   "execution_count": null,
   "metadata": {
    "collapsed": false,
    "extensions": {
     "jupyter_dashboards": {
      "version": 1,
      "views": {
       "grid_default": {
        "hidden": true
       },
       "report_default": {
        "hidden": false
       }
      }
     }
    }
   },
   "outputs": [],
   "source": [
    "%%html\n",
    "<link rel=\"import\" href=\"urth_components/urth-viz-chart/urth-viz-chart.html\" \n",
    "    is=\"urth-core-import\">\n",
    "<link rel=\"import\" href=\"urth_components/urth-viz-table/urth-viz-table.html\" \n",
    "    is=\"urth-core-import\">\n",
    "<link rel=\"import\" href=\"urth_components/iron-flex-layout/classes/iron-flex-layout.html\" \n",
    "    is='urth-core-import' package='PolymerElements/iron-flex-layout'>\n",
    "<link rel='import' href='urth_components/paper-slider/paper-slider.html' \n",
    "    is='urth-core-import' package='PolymerElements/paper-slider'>\n",
    "<link rel='import' href='urth_components/paper-card/paper-card.html' \n",
    "    is='urth-core-import' package='PolymerElements/paper-card'>\n",
    "<link rel='import' href='urth_components/paper-item/paper-item.html' \n",
    "    is='urth-core-import' package='PolymerElements/paper-item'>\n",
    "<link rel=\"import\" href=\"urth_components/paper-dropdown-menu/paper-dropdown-menu.html\" \n",
    "    is='urth-core-import' package='PolymerElements/paper-dropdown-menu'>\n",
    "<link rel=\"import\" href=\"urth_components/paper-menu/paper-menu.html\"\n",
    "    is='urth-core-import' package='PolymerElements/paper-menu'>\n",
    "\n",
    "<urth-core-channel id='churnChannel' name='churn'></urth-core-channel>"
   ]
  },
  {
   "cell_type": "markdown",
   "metadata": {
    "extensions": {
     "jupyter_dashboards": {
      "version": 1,
      "views": {
       "grid_default": {
        "hidden": true
       },
       "report_default": {
        "hidden": false
       }
      }
     }
    }
   },
   "source": [
    "## Load client data"
   ]
  },
  {
   "cell_type": "markdown",
   "metadata": {
    "collapsed": true,
    "extensions": {
     "jupyter_dashboards": {
      "version": 1,
      "views": {
       "grid_default": {
        "hidden": true
       },
       "report_default": {
        "hidden": false
       }
      }
     }
    }
   },
   "source": [
    "Load information about BigBank clients.  The data consists of client metadata, such as age, gender, etc., as well as aggregate statistics about each client's banking activity (e.g., number of credit/debit card transactions, total transaction amount).\n",
    "\n",
    "The data also include a `churn` classifier, which indicates whether or not the client is still a BigBank customer.\n",
    "\n",
    "To load the data, modify `mongo_configs` with the appropriate IP address, port, username and password."
   ]
  },
  {
   "cell_type": "code",
   "execution_count": null,
   "metadata": {
    "collapsed": true,
    "extensions": {
     "jupyter_dashboards": {
      "version": 1,
      "views": {
       "grid_default": {
        "hidden": true
       },
       "report_default": {
        "hidden": false
       }
      }
     }
    }
   },
   "outputs": [],
   "source": [
    "MONGO_HOST = 'mongodb'\n",
    "MONGO_PORT = 27017"
   ]
  },
  {
   "cell_type": "code",
   "execution_count": null,
   "metadata": {
    "collapsed": false,
    "extensions": {
     "jupyter_dashboards": {
      "version": 1,
      "views": {
       "grid_default": {
        "hidden": true
       },
       "report_default": {
        "hidden": false
       }
      }
     }
    }
   },
   "outputs": [],
   "source": [
    "mongo_configs = {\n",
    "    \"local\": {\n",
    "        \"host\": MONGO_HOST,\n",
    "        \"port\": MONGO_PORT, \n",
    "        \"db\": \"demo\",\n",
    "        \"collection\": \"client_features\"\n",
    "    },\n",
    "    \"remote\": {\n",
    "        \"host\": MONGO_HOST,\n",
    "        \"port\": MONGO_PORT, \n",
    "        \"user\": \"mongo_user\", \n",
    "        \"password\": \"mongo_pass\", \n",
    "        \"db\": \"demo\",\n",
    "        \"collection\": \"client_features\"\n",
    "    }\n",
    "}"
   ]
  },
  {
   "cell_type": "markdown",
   "metadata": {
    "extensions": {
     "jupyter_dashboards": {
      "version": 1,
      "views": {
       "grid_default": {
        "hidden": true
       },
       "report_default": {
        "hidden": false
       }
      }
     }
    }
   },
   "source": [
    "These are helper functions to load the data from MongoDB and query a collection."
   ]
  },
  {
   "cell_type": "code",
   "execution_count": null,
   "metadata": {
    "collapsed": true,
    "extensions": {
     "jupyter_dashboards": {
      "version": 1,
      "views": {
       "grid_default": {
        "hidden": true
       },
       "report_default": {
        "hidden": false
       }
      }
     }
    }
   },
   "outputs": [],
   "source": [
    "def get_mongo_uri(**kwargs):\n",
    "    if all([x in kwargs for x in ['user','password']]):\n",
    "        return 'mongodb://{user}:{password}@{host}:{port}'.format(**kwargs)\n",
    "    return 'mongodb://{host}:{port}'.format(**kwargs)\n",
    "\n",
    "def query_collection(db, collection, limit=0):\n",
    "    collection = db[collection]\n",
    "    cursor = collection.find({}).limit(limit)\n",
    "    df = pd.DataFrame(list(cursor))\n",
    "    # Remove the MongoDB _id column\n",
    "    del df['_id']\n",
    "    return df\n",
    "\n",
    "def load_data_from_mongo(uri, db_name, collection):\n",
    "    client = MongoClient(uri)\n",
    "    db = client[db_name]\n",
    "    return query_collection(db, collection)\n",
    "\n",
    "def load_data(location=None):\n",
    "    loc = location or 'local'\n",
    "    config = mongo_configs[loc]\n",
    "    return load_data_from_mongo(\n",
    "        get_mongo_uri(**config),\n",
    "        config['db'],\n",
    "        config['collection']\n",
    "    )"
   ]
  },
  {
   "cell_type": "code",
   "execution_count": null,
   "metadata": {
    "collapsed": false,
    "extensions": {
     "jupyter_dashboards": {
      "version": 1,
      "views": {
       "grid_default": {
        "hidden": true
       },
       "report_default": {
        "hidden": false
       }
      }
     }
    }
   },
   "outputs": [],
   "source": [
    "client_df = load_data()\n",
    "client_df.head()"
   ]
  },
  {
   "cell_type": "markdown",
   "metadata": {
    "extensions": {
     "jupyter_dashboards": {
      "version": 1,
      "views": {
       "grid_default": {
        "hidden": true
       },
       "report_default": {
        "hidden": false
       }
      }
     }
    }
   },
   "source": [
    "## Train churn model"
   ]
  },
  {
   "cell_type": "markdown",
   "metadata": {
    "collapsed": true,
    "extensions": {
     "jupyter_dashboards": {
      "version": 1,
      "views": {
       "grid_default": {
        "hidden": true
       },
       "report_default": {
        "hidden": false
       }
      }
     }
    }
   },
   "source": [
    "Train a churn classifier, which we'll use to predict the probability that a client will churn.\n",
    "\n",
    "To keep things simple, we use a single data set, which we split into training and test data sets.  We use the training data to train the model, and the test data to make projections about lost revenue to the bank."
   ]
  },
  {
   "cell_type": "code",
   "execution_count": null,
   "metadata": {
    "collapsed": true,
    "extensions": {
     "jupyter_dashboards": {
      "version": 1,
      "views": {
       "grid_default": {
        "hidden": true
       },
       "report_default": {
        "hidden": false
       }
      }
     }
    }
   },
   "outputs": [],
   "source": [
    "def make_feature_space(df):\n",
    "    '''Create the feature space required by our classifier.'''\n",
    "    # drop columns/features we don't want/need for the classifier\n",
    "    features_df = df.drop(['churn', 'customer_id'], axis=1, errors='ignore')\n",
    "    X = features_df.as_matrix().astype(np.float)\n",
    "    # normalize feature values\n",
    "    scaler = StandardScaler()\n",
    "    X = scaler.fit_transform(X)\n",
    "    return X\n",
    "\n",
    "def predict_churn(X):\n",
    "    '''Predict the probabilit of churn from feature set.'''\n",
    "    return clf.predict_proba(X)[:,1]\n",
    "\n",
    "def train_model(X, y):\n",
    "    '''Train our classifier using features X and target variable y.'''\n",
    "    clf = RF(n_estimators=100)\n",
    "    return clf.fit(X, y)\n",
    "\n",
    "def init_model(df):\n",
    "    # split data into train, test sets\n",
    "    train_index, test_index = train_test_split(df.index, random_state=99)\n",
    "    train_df = client_df.ix[train_index]\n",
    "    test_df = client_df.ix[test_index]\n",
    "\n",
    "    # target variable\n",
    "    y = np.array(train_df['churn'])\n",
    "\n",
    "    # extract features\n",
    "    X = make_feature_space(train_df)\n",
    "\n",
    "    # train classifier\n",
    "    clf = train_model(X, y)\n",
    "\n",
    "    return clf, test_df"
   ]
  },
  {
   "cell_type": "markdown",
   "metadata": {
    "extensions": {
     "jupyter_dashboards": {
      "version": 1,
      "views": {
       "grid_default": {
        "hidden": true
       },
       "report_default": {
        "hidden": false
       }
      }
     }
    }
   },
   "source": [
    "After training the model, we are left with the churn classifier and the test data set, which we'll use for our churn predictions."
   ]
  },
  {
   "cell_type": "code",
   "execution_count": null,
   "metadata": {
    "collapsed": false,
    "extensions": {
     "jupyter_dashboards": {
      "version": 1,
      "views": {
       "grid_default": {
        "hidden": true
       },
       "report_default": {
        "hidden": false
       }
      }
     }
    }
   },
   "outputs": [],
   "source": [
    "clf, test_df = init_model(client_df)\n",
    "test_df.head()"
   ]
  },
  {
   "cell_type": "markdown",
   "metadata": {
    "extensions": {
     "jupyter_dashboards": {
      "version": 1,
      "views": {
       "grid_default": {
        "hidden": true
       },
       "report_default": {
        "hidden": false
       }
      }
     }
    }
   },
   "source": [
    "## Calculate business loss\n",
    "\n",
    "In this simple example, we calculate the projected loss of business (revenue) to BigBank for all clients in the test data set.   We calculate BigBank's revenue from each client, and multiply that by the churn probability to determine the predicted loss."
   ]
  },
  {
   "cell_type": "code",
   "execution_count": null,
   "metadata": {
    "collapsed": true,
    "extensions": {
     "jupyter_dashboards": {
      "version": 1,
      "views": {
       "grid_default": {
        "hidden": true
       },
       "report_default": {
        "hidden": false
       }
      }
     }
    }
   },
   "outputs": [],
   "source": [
    "def calc_business_loss(df):\n",
    "    data = df[['customer_id']].copy()\n",
    "\n",
    "    # extract features\n",
    "    X = make_feature_space(df)\n",
    "    \n",
    "    # predict churn\n",
    "    data['churn_probability'] = predict_churn(X)\n",
    "    \n",
    "    # TODO: avg_daily_balance would be a nice feature to have here\n",
    "    # for now, we'll just use fraction of income\n",
    "    avg_daily_balance = df['annual_income'] / 6\n",
    "\n",
    "    # Interest made on deposits\n",
    "    deposit_rate = 0.02\n",
    "\n",
    "    # Fee collected for each credit txn\n",
    "    credit_rate = 0.015\n",
    "\n",
    "    # Assume we make some money on trading fees and/or portfolio management\n",
    "    mgmt_rate = 0.02\n",
    "\n",
    "    # How much is each customer worth to the business?\n",
    "    worth = deposit_rate * avg_daily_balance + \\\n",
    "            mgmt_rate * df['annual_investment_rev'] + \\\n",
    "            credit_rate * df['total_txn_amount']\n",
    "    data['worth'] = worth\n",
    "    \n",
    "    # How much would we lose per annum?\n",
    "    data['predicted_loss'] = data['churn_probability'] * worth\n",
    "    \n",
    "    return data.sort_values(by='predicted_loss', ascending=False)"
   ]
  },
  {
   "cell_type": "code",
   "execution_count": null,
   "metadata": {
    "collapsed": false,
    "extensions": {
     "jupyter_dashboards": {
      "version": 1,
      "views": {
       "grid_default": {
        "hidden": true
       },
       "report_default": {
        "hidden": false
       }
      }
     }
    }
   },
   "outputs": [],
   "source": [
    "churn_df = calc_business_loss(test_df)\n",
    "churn_df.head()"
   ]
  },
  {
   "cell_type": "markdown",
   "metadata": {
    "extensions": {
     "jupyter_dashboards": {
      "version": 1,
      "views": {
       "grid_default": {
        "hidden": true
       },
       "report_default": {
        "hidden": false
       }
      }
     }
    }
   },
   "source": [
    "Merge the predicted churn and business loss with the client data."
   ]
  },
  {
   "cell_type": "code",
   "execution_count": null,
   "metadata": {
    "collapsed": false,
    "extensions": {
     "jupyter_dashboards": {
      "version": 1,
      "views": {
       "grid_default": {
        "hidden": true
       },
       "report_default": {
        "hidden": false
       }
      }
     }
    }
   },
   "outputs": [],
   "source": [
    "data = test_df.merge(churn_df, on='customer_id', left_index=True, right_index=True)"
   ]
  },
  {
   "cell_type": "markdown",
   "metadata": {
    "extensions": {
     "jupyter_dashboards": {
      "version": 1,
      "views": {
       "grid_default": {
        "hidden": true
       },
       "report_default": {
        "hidden": false
       }
      }
     }
    }
   },
   "source": [
    "## Loss by Age Group"
   ]
  },
  {
   "cell_type": "markdown",
   "metadata": {
    "extensions": {
     "jupyter_dashboards": {
      "version": 1,
      "views": {
       "grid_default": {
        "hidden": true
       },
       "report_default": {
        "hidden": false
       }
      }
     }
    }
   },
   "source": [
    "In this section, we calculate and plot the projected loss of revenue by age group.  In our data set, age is an important feature in predicting if a client will churn.\n",
    "\n",
    "First we create a DataFrame containing the cumulative predicted loss by age group."
   ]
  },
  {
   "cell_type": "code",
   "execution_count": null,
   "metadata": {
    "collapsed": false,
    "extensions": {
     "jupyter_dashboards": {
      "version": 1,
      "views": {
       "grid_default": {
        "hidden": true
       },
       "report_default": {
        "hidden": false
       }
      }
     }
    }
   },
   "outputs": [],
   "source": [
    "def group_by_age(df, bins=None):\n",
    "    if bins is None:\n",
    "        bin_size = 5\n",
    "        _min, _max = int(df.age_years.min()), int(df.age_years.max())\n",
    "        bins = range(_min, _max + bin_size, 5)\n",
    "    return df.groupby(pd.cut(df.age_years, bins=bins))\n",
    "\n",
    "data_by_age = data.pipe(group_by_age)"
   ]
  },
  {
   "cell_type": "code",
   "execution_count": null,
   "metadata": {
    "collapsed": false,
    "extensions": {
     "jupyter_dashboards": {
      "version": 1,
      "views": {
       "grid_default": {
        "hidden": true
       },
       "report_default": {
        "hidden": false
       }
      }
     }
    }
   },
   "outputs": [],
   "source": [
    "loss_by_age_df = data_by_age['predicted_loss'].sum().reset_index()\n",
    "loss_by_age_df['age_years'] = loss_by_age_df['age_years'].astype(str)\n",
    "loss_by_age_df"
   ]
  },
  {
   "cell_type": "markdown",
   "metadata": {
    "extensions": {
     "jupyter_dashboards": {
      "version": 1,
      "views": {
       "grid_default": {
        "hidden": true
       },
       "report_default": {
        "hidden": false
       }
      }
     }
    }
   },
   "source": [
    "[declarativewidgets](https://github.com/jupyter-incubator/declarativewidgets) provides an `urth-core-dataframe` element, which makes it easy for us to bind a DataFrame in our notebook to a widget channel variable.  We can then bind the variable to a widget.\n",
    "\n",
    "The HTML markup below binds the `loss_by_age_df` DataFrame to an interactive bar chart."
   ]
  },
  {
   "cell_type": "code",
   "execution_count": null,
   "metadata": {
    "collapsed": false,
    "extensions": {
     "jupyter_dashboards": {
      "version": 1,
      "views": {
       "grid_default": {
        "col": 0,
        "height": 19,
        "hidden": false,
        "row": 3,
        "width": 8
       },
       "report_default": {
        "hidden": false
       }
      }
     }
    }
   },
   "outputs": [],
   "source": [
    "%%html\n",
    "<template is=\"urth-core-bind\" channel=\"churn\">\n",
    "    <h3 class=\"center horizontal layout\">Predicted Annual Loss by Age Group</h3>\n",
    "    <urth-core-dataframe ref=\"loss_by_age_df\"\n",
    "        value=\"{{ loss_by_age_group }}\">\n",
    "    </urth-core-dataframe>\n",
    "    <urth-viz-chart type=\"bar\"\n",
    "        datarows=\"{{ loss_by_age_group.data }}\" \n",
    "        columns=\"{{ loss_by_age_group.columns }}\" \n",
    "        selection=\"{{ selected_age_group }}\"\n",
    "        selection-as-object=true\n",
    "        ybounds=\"[0,50000]\"\n",
    "        xlabel=\"Age group\"\n",
    "        ylabel=\"Predicted loss ($)\">\n",
    "    </urth-viz-chart>\n",
    "</template>"
   ]
  },
  {
   "cell_type": "markdown",
   "metadata": {
    "extensions": {
     "jupyter_dashboards": {
      "version": 1,
      "views": {
       "grid_default": {
        "hidden": true
       },
       "report_default": {
        "hidden": false
       }
      }
     }
    }
   },
   "source": [
    "[declarativewidgets](https://github.com/jupyter-incubator/declarativewidgets) also provides the ability to bind widget variables to functions in our notebook.  \n",
    "\n",
    "We define a function that looks up all clients for a particular age group.  When we select an age group in the above chart, the selection is stored in the `selected_age_group` widgets channel variable.  We extract the age group name from the variable, and pass it to the function.   We pass the resulting age group to a table widget for display.\n",
    "\n",
    "All of this happens automatically.  Just select an age group in the chart above to see the table update."
   ]
  },
  {
   "cell_type": "code",
   "execution_count": null,
   "metadata": {
    "collapsed": false,
    "extensions": {
     "jupyter_dashboards": {
      "version": 1,
      "views": {
       "grid_default": {
        "hidden": true
       },
       "report_default": {
        "hidden": false
       }
      }
     }
    }
   },
   "outputs": [],
   "source": [
    "def get_age_group(age_group, cols=[]):\n",
    "    columns = cols or ['customer_id', 'age_years', 'predicted_loss']\n",
    "    g = data_by_age.get_group(age_group)\n",
    "    return g[columns]"
   ]
  },
  {
   "cell_type": "code",
   "execution_count": null,
   "metadata": {
    "collapsed": false,
    "extensions": {
     "jupyter_dashboards": {
      "version": 1,
      "views": {
       "grid_default": {
        "col": 8,
        "height": 11,
        "hidden": false,
        "row": 3,
        "width": 4
       },
       "report_default": {
        "hidden": false
       }
      }
     }
    }
   },
   "outputs": [],
   "source": [
    "%%html\n",
    "<template is=\"urth-core-bind\" channel=\"churn\">\n",
    "    <template is=\"dom-if\" if=\"[[selected_age_group]]\">\n",
    "        <urth-core-function \n",
    "            ref=\"get_age_group\"\n",
    "            arg-age_group=\"[[ selected_age_group.age_years ]]\"\n",
    "            result=\"{{ age_group }}\"\n",
    "            limit=\"100\"\n",
    "            auto>\n",
    "        </urth-core-function>\n",
    "        <p>Selected age group: <strong>[[ selected_age_group.age_years ]]</strong></p>\n",
    "        <urth-viz-table\n",
    "            datarows=\"{{ age_group.data }}\"\n",
    "            columns=\"{{ age_group.columns }}\" \n",
    "            selection=\"{{ client }}\"\n",
    "            rows-visible=10>\n",
    "        </urth-viz-table>\n",
    "    </template>\n",
    "</template>"
   ]
  },
  {
   "cell_type": "markdown",
   "metadata": {
    "extensions": {
     "jupyter_dashboards": {
      "version": 1,
      "views": {
       "grid_default": {
        "hidden": true
       },
       "report_default": {
        "hidden": false
       }
      }
     }
    }
   },
   "source": [
    "## Client profile\n",
    "\n",
    "We create a simple widget to show additional information about the selected client.  This widget updates when the user selects a client in the table widget above.  \n",
    "\n",
    "On selection, the widgets framework updates automatically invokes the `get_client_profile` function below with the selected data.  The function retrieves the full client record from our data set, formats some of the values, and returns the result to the widget, which updates its display."
   ]
  },
  {
   "cell_type": "code",
   "execution_count": null,
   "metadata": {
    "collapsed": false,
    "extensions": {
     "jupyter_dashboards": {
      "version": 1,
      "views": {
       "grid_default": {
        "hidden": true
       },
       "report_default": {
        "hidden": false
       }
      }
     }
    }
   },
   "outputs": [],
   "source": [
    "def _get_client_profile(customer_id):\n",
    "    '''\n",
    "    Lookup our customer from our client data.  \n",
    "    Selectively choose which columns to include in profile.\n",
    "    Format the values for display.\n",
    "    '''\n",
    "    df = data[data['customer_id'] == customer_id]\n",
    "    if len(df) == 0:\n",
    "        return {}\n",
    "    client = df.to_dict(orient='records')[0]\n",
    "    # Format for display\n",
    "    for key in ['annual_income', 'annual_investment_rev', 'worth', \n",
    "                'predicted_loss', 'total_txn_amount', 'avg_txn_amount']:\n",
    "        client[key] = '${:,.0f}'.format(client[key])\n",
    "    client['age_years'] = int(client['age_years'])\n",
    "    client['churn_probability'] = '{:d}%'.format(int(client['churn_probability'] * 100))\n",
    "    return client\n",
    "\n",
    "def get_client_profile(client=[], columns=[]):\n",
    "    if not client:\n",
    "        return\n",
    "    \n",
    "    # Determine which column is customer_id in selected data \n",
    "    col = columns.index('customer_id')\n",
    "    customer_id = client[col]\n",
    "    # Lookup the client profile\n",
    "    return _get_client_profile(customer_id)"
   ]
  },
  {
   "cell_type": "code",
   "execution_count": null,
   "metadata": {
    "collapsed": false,
    "extensions": {
     "jupyter_dashboards": {
      "version": 1,
      "views": {
       "grid_default": {
        "col": 8,
        "height": 8,
        "hidden": false,
        "row": 14,
        "width": 4
       },
       "report_default": {
        "hidden": false
       }
      }
     }
    }
   },
   "outputs": [],
   "source": [
    "%%html\n",
    "<template is=\"urth-core-bind\" channel=\"churn\">\n",
    "    <urth-core-function ref=\"get_client_profile\" \n",
    "        arg-client=\"[[ client ]]\"\n",
    "        arg-columns=\"[[ churn_scatter.columns ]]\"\n",
    "        result=\"{{ profile }}\" auto></urth-core-function>\n",
    "    <template is=\"dom-if\" if=\"[[ profile ]]\">\n",
    "        <paper-card heading=\"ID: {{ profile.customer_id }}\">\n",
    "          <div class=\"card-content\">\n",
    "            <div class=\"layout horizontal justified\">\n",
    "                <span>Churn probability:</span><span>{{ profile.churn_probability }}</span></div>            \n",
    "            <div class=\"layout horizontal justified\">\n",
    "                <span>Revenue:</span><span>{{ profile.worth }}</span></div>            \n",
    "            <div class=\"layout horizontal justified\">\n",
    "                <span>Predicted loss:</span><span>{{ profile.predicted_loss }}</span></div>            \n",
    "            <div class=\"layout horizontal justified\">\n",
    "                <span>Age:</span><span>{{ profile.age_years }}</span></div>            \n",
    "            <div class=\"layout horizontal justified\">\n",
    "                <span>Income:</span><span>{{ profile.annual_income }}</span></div>            \n",
    "            <div class=\"layout horizontal justified\">\n",
    "                <span>Investments:</span><span>{{ profile.annual_investment_rev }}</span></div>            \n",
    "          </div>\n",
    "        </paper-card>\n",
    "    </template>\n",
    "</template>"
   ]
  },
  {
   "cell_type": "markdown",
   "metadata": {
    "extensions": {
     "jupyter_dashboards": {
      "version": 1,
      "views": {
       "grid_default": {
        "hidden": true
       },
       "report_default": {
        "hidden": false
       }
      }
     }
    }
   },
   "source": [
    "## Predicted loss vs. churn\n",
    "\n",
    "We now create a scatter plot widget that plots churn probability vs. projected loss of revenue.  \n",
    "\n",
    "We use a slider widget to control the data that we display in the plot.  In this case, the slider limits the results to clients who have the specified churn probability or greater.\n",
    "\n",
    "When we change the probability using the slider, the widget invokes the `churn` function to retrieve filtered results, which are passed to the plot."
   ]
  },
  {
   "cell_type": "code",
   "execution_count": null,
   "metadata": {
    "collapsed": false,
    "extensions": {
     "jupyter_dashboards": {
      "version": 1,
      "views": {
       "grid_default": {
        "hidden": true
       },
       "report_default": {
        "hidden": false
       }
      }
     }
    }
   },
   "outputs": [],
   "source": [
    "def churn(min_probability=None):\n",
    "    '''Retrieve business loss for all clients with greater than `min_probability` of churn.\n",
    "    '''\n",
    "    if min_probability:\n",
    "        probability = min_probability / 100. if min_probability > 1 else min_probability\n",
    "    else:\n",
    "        probability = 0\n",
    "    df = data[data['churn_probability'] > probability]\n",
    "    df = df.sort_values('predicted_loss', ascending=False)\n",
    "    df.reset_index(drop=True, inplace=True)\n",
    "    return df[['customer_id', 'worth', 'churn_probability', 'predicted_loss']]"
   ]
  },
  {
   "cell_type": "code",
   "execution_count": null,
   "metadata": {
    "collapsed": false,
    "extensions": {
     "jupyter_dashboards": {
      "version": 1,
      "views": {
       "grid_default": {
        "col": 0,
        "height": 21,
        "hidden": false,
        "row": 22,
        "width": 12
       },
       "report_default": {
        "hidden": false
       }
      }
     }
    },
    "scrolled": false
   },
   "outputs": [],
   "source": [
    "%%html\n",
    "<template is=\"urth-core-bind\" channel=\"churn\">\n",
    "    <h3 class=\"center horizontal layout\">Predicted Loss of Business Due to Churn</h3>\n",
    "    <div class=\"center horizontal layout\">\n",
    "        <div>Probability of Churn</div>\n",
    "        <paper-slider min=\"5\" max=\"95\" step=\"5\" pin snap value=\"{{ probability }}\" editable></paper-slider>\n",
    "        <div>%</div>\n",
    "    </div>\n",
    "    <urth-core-function ref=\"churn\"\n",
    "        arg-min_probability=\"[[ probability ]]\"\n",
    "        result=\"{{ churn_scatter }}\"\n",
    "        limit=\"200\"\n",
    "        auto>\n",
    "    </urth-core-function>\n",
    "    <urth-viz-chart id=\"c5\" type='scatter' datarows=\"{{ churn_scatter.data }}\" \n",
    "        columns=\"{{ churn_scatter.columns }}\" \n",
    "        selection=\"{{ selected }}\"\n",
    "        primary=3\n",
    "        secondary=2\n",
    "        xbounds=\"[0]\"\n",
    "        multi-select=true\n",
    "        xlabel=\"Predicted Revenue Loss (US Dollars)\"\n",
    "        ylabel=\"Probability of Churn\">\n",
    "            <urth-viz-col index=\"2\" type=\"numeric\" format=\"%\"></urth-viz-col>\n",
    "    </urth-viz-chart>\n",
    "</template>"
   ]
  },
  {
   "cell_type": "markdown",
   "metadata": {
    "extensions": {
     "jupyter_dashboards": {
      "version": 1,
      "views": {
       "grid_default": {
        "hidden": true
       },
       "report_default": {
        "hidden": false
       }
      }
     }
    }
   },
   "source": [
    "Each dot in the scatter plot represents a single client.  When a user clicks one or more dots, the selected clients display in the table widget below."
   ]
  },
  {
   "cell_type": "code",
   "execution_count": null,
   "metadata": {
    "collapsed": false,
    "extensions": {
     "jupyter_dashboards": {
      "version": 1,
      "views": {
       "grid_default": {
        "col": 4,
        "height": 6,
        "hidden": false,
        "row": 43,
        "width": 5
       },
       "report_default": {
        "hidden": false
       }
      }
     }
    }
   },
   "outputs": [],
   "source": [
    "%%html\n",
    "<template is=\"urth-core-bind\" channel=\"churn\">\n",
    "    <template is=\"dom-if\" if=\"[[ selected ]]\">\n",
    "        <urth-viz-table\n",
    "            columns=\"{{ churn_scatter.columns }}\" \n",
    "            datarows=\"{{ selected }}\"\n",
    "            rows-visible=10>\n",
    "        </urth-viz-table>\n",
    "    </template>\n",
    "</template>"
   ]
  },
  {
   "cell_type": "markdown",
   "metadata": {
    "collapsed": true,
    "extensions": {
     "jupyter_dashboards": {
      "version": 1,
      "views": {
       "grid_default": {
        "hidden": true
       },
       "report_default": {
        "hidden": false
       }
      }
     }
    }
   },
   "source": [
    "## Select data source\n",
    "\n",
    "This is a simple drop-down widget to allow the notebook user to select from multiple backend MongoDB hosts.  When the user selects a new MongoDB location, it invokes a handler that reloads the client data from that location.  The handler also tickles variables on the widget channel, which triggers the widgets to refresh."
   ]
  },
  {
   "cell_type": "code",
   "execution_count": null,
   "metadata": {
    "collapsed": false,
    "extensions": {
     "jupyter_dashboards": {
      "version": 1,
      "views": {
       "grid_default": {
        "hidden": true
       },
       "report_default": {
        "hidden": false
       }
      }
     }
    }
   },
   "outputs": [],
   "source": [
    "def on_host_selected(old, new):\n",
    "    host = new\n",
    "    client_df = load_data(host)\n",
    "    clf, test_df = init_model(client_df)\n",
    "    churn_df = calc_business_loss(test_df)\n",
    "    \n",
    "    global data\n",
    "    data = test_df.merge(churn_df, on='customer_id', left_index=True, right_index=True)\n",
    "    \n",
    "    # reset variables on the widget channel to force refresh of widgets\n",
    "    channel('churn').set('by_age_method', None)\n",
    "    channel('churn').set('probability', None)\n",
    "\n",
    "channel('db').set('hosts', list(mongo_configs.keys()))\n",
    "channel('db').watch('selected_host', on_host_selected)"
   ]
  },
  {
   "cell_type": "code",
   "execution_count": null,
   "metadata": {
    "collapsed": false,
    "extensions": {
     "jupyter_dashboards": {
      "version": 1,
      "views": {
       "grid_default": {
        "col": 9,
        "height": 3,
        "hidden": false,
        "row": 0,
        "width": 3
       },
       "report_default": {
        "hidden": false
       }
      }
     }
    }
   },
   "outputs": [],
   "source": [
    "%%html\n",
    "<template is=\"urth-core-bind\" channel=\"db\">\n",
    "    <div class=\"card-content\">\n",
    "        <paper-dropdown-menu label=\"Select MongoDB host\" \n",
    "                selected-item-label=\"{{ selected_host }}\" noink>\n",
    "            <paper-menu class=\"dropdown-content\" selected=\"[[ selected_host ]]\" \n",
    "                attr-for-selected=\"label\">\n",
    "                <template is=\"dom-repeat\" items=\"[[ hosts ]]\">\n",
    "                    <paper-item label=\"[[ item ]]\">[[ item ]]</paper-item>\n",
    "                </template>\n",
    "            </paper-menu>\n",
    "        </paper-dropdown-menu>\n",
    "    </div>\n",
    "</template>"
   ]
  },
  {
   "cell_type": "code",
   "execution_count": null,
   "metadata": {
    "collapsed": true,
    "extensions": {
     "jupyter_dashboards": {
      "version": 1,
      "views": {
       "grid_default": {
        "hidden": true
       },
       "report_default": {
        "hidden": false
       }
      }
     }
    }
   },
   "outputs": [],
   "source": []
  }
 ],
 "metadata": {
  "extensions": {
   "jupyter_dashboards": {
    "activeView": "grid_default",
    "version": 1,
    "views": {
     "grid_default": {
      "cellMargin": 10,
      "defaultCellHeight": 20,
      "layoutStrategy": "packed",
      "maxColumns": 12,
      "name": "grid",
      "type": "grid"
     },
     "report_default": {
      "name": "report",
      "type": "report"
     }
    }
   }
  },
  "kernelspec": {
   "display_name": "Python 3",
   "language": "python",
   "name": "python3"
  },
  "language_info": {
   "codemirror_mode": {
    "name": "ipython",
    "version": 3
   },
   "file_extension": ".py",
   "mimetype": "text/x-python",
   "name": "python",
   "nbconvert_exporter": "python",
   "pygments_lexer": "ipython3",
   "version": "3.5.1"
  }
 },
 "nbformat": 4,
 "nbformat_minor": 0
}
